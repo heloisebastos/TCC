{
 "cells": [
  {
   "cell_type": "code",
   "execution_count": null,
   "metadata": {},
   "outputs": [],
   "source": [
    "%pip install opendatasets\n",
    "%pip install seaborn\n",
    "%pip install seaborn matplotlib\n"
   ]
  },
  {
   "cell_type": "code",
   "execution_count": 1,
   "metadata": {},
   "outputs": [],
   "source": [
    "import opendatasets as od\n",
    "import pandas as pd \n",
    "from sklearn.preprocessing import StandardScaler\n",
    "from sklearn.svm import SVC\n",
    "from sklearn.model_selection import train_test_split\n",
    "import seaborn as sns\n",
    "from sklearn.model_selection import train_test_split\n",
    "from sklearn.preprocessing import StandardScaler\n",
    "from sklearn.svm import SVC\n",
    "from sklearn.metrics import jaccard_score\n",
    "from sklearn.metrics import f1_score\n",
    "from sklearn.metrics import log_loss\n",
    "from sklearn.metrics import classification_report,confusion_matrix,accuracy_score\n",
    "from sklearn.ensemble import RandomForestClassifier"
   ]
  },
  {
   "cell_type": "code",
   "execution_count": null,
   "metadata": {},
   "outputs": [],
   "source": [
    "od.download(\"https://www.kaggle.com/datasets/shashwatwork/web-page-phishing-detection-dataset\")"
   ]
  },
  {
   "cell_type": "code",
   "execution_count": 2,
   "metadata": {},
   "outputs": [],
   "source": [
    "dataset = 'web-page-phishing-detection-dataset/dataset_phishing.csv'"
   ]
  },
  {
   "cell_type": "code",
   "execution_count": 3,
   "metadata": {},
   "outputs": [
    {
     "name": "stdout",
     "output_type": "stream",
     "text": [
      "(11430, 89)\n"
     ]
    },
    {
     "data": {
      "text/html": [
       "<div>\n",
       "<style scoped>\n",
       "    .dataframe tbody tr th:only-of-type {\n",
       "        vertical-align: middle;\n",
       "    }\n",
       "\n",
       "    .dataframe tbody tr th {\n",
       "        vertical-align: top;\n",
       "    }\n",
       "\n",
       "    .dataframe thead th {\n",
       "        text-align: right;\n",
       "    }\n",
       "</style>\n",
       "<table border=\"1\" class=\"dataframe\">\n",
       "  <thead>\n",
       "    <tr style=\"text-align: right;\">\n",
       "      <th></th>\n",
       "      <th>url</th>\n",
       "      <th>length_url</th>\n",
       "      <th>length_hostname</th>\n",
       "      <th>ip</th>\n",
       "      <th>nb_dots</th>\n",
       "      <th>nb_hyphens</th>\n",
       "      <th>nb_at</th>\n",
       "      <th>nb_qm</th>\n",
       "      <th>nb_and</th>\n",
       "      <th>nb_or</th>\n",
       "      <th>...</th>\n",
       "      <th>domain_in_title</th>\n",
       "      <th>domain_with_copyright</th>\n",
       "      <th>whois_registered_domain</th>\n",
       "      <th>domain_registration_length</th>\n",
       "      <th>domain_age</th>\n",
       "      <th>web_traffic</th>\n",
       "      <th>dns_record</th>\n",
       "      <th>google_index</th>\n",
       "      <th>page_rank</th>\n",
       "      <th>status</th>\n",
       "    </tr>\n",
       "  </thead>\n",
       "  <tbody>\n",
       "    <tr>\n",
       "      <th>0</th>\n",
       "      <td>http://www.crestonwood.com/router.php</td>\n",
       "      <td>37</td>\n",
       "      <td>19</td>\n",
       "      <td>0</td>\n",
       "      <td>3</td>\n",
       "      <td>0</td>\n",
       "      <td>0</td>\n",
       "      <td>0</td>\n",
       "      <td>0</td>\n",
       "      <td>0</td>\n",
       "      <td>...</td>\n",
       "      <td>0</td>\n",
       "      <td>1</td>\n",
       "      <td>0</td>\n",
       "      <td>45</td>\n",
       "      <td>-1</td>\n",
       "      <td>0</td>\n",
       "      <td>1</td>\n",
       "      <td>1</td>\n",
       "      <td>4</td>\n",
       "      <td>legitimate</td>\n",
       "    </tr>\n",
       "    <tr>\n",
       "      <th>1</th>\n",
       "      <td>http://shadetreetechnology.com/V4/validation/a...</td>\n",
       "      <td>77</td>\n",
       "      <td>23</td>\n",
       "      <td>1</td>\n",
       "      <td>1</td>\n",
       "      <td>0</td>\n",
       "      <td>0</td>\n",
       "      <td>0</td>\n",
       "      <td>0</td>\n",
       "      <td>0</td>\n",
       "      <td>...</td>\n",
       "      <td>1</td>\n",
       "      <td>0</td>\n",
       "      <td>0</td>\n",
       "      <td>77</td>\n",
       "      <td>5767</td>\n",
       "      <td>0</td>\n",
       "      <td>0</td>\n",
       "      <td>1</td>\n",
       "      <td>2</td>\n",
       "      <td>phishing</td>\n",
       "    </tr>\n",
       "    <tr>\n",
       "      <th>2</th>\n",
       "      <td>https://support-appleld.com.secureupdate.duila...</td>\n",
       "      <td>126</td>\n",
       "      <td>50</td>\n",
       "      <td>1</td>\n",
       "      <td>4</td>\n",
       "      <td>1</td>\n",
       "      <td>0</td>\n",
       "      <td>1</td>\n",
       "      <td>2</td>\n",
       "      <td>0</td>\n",
       "      <td>...</td>\n",
       "      <td>1</td>\n",
       "      <td>0</td>\n",
       "      <td>0</td>\n",
       "      <td>14</td>\n",
       "      <td>4004</td>\n",
       "      <td>5828815</td>\n",
       "      <td>0</td>\n",
       "      <td>1</td>\n",
       "      <td>0</td>\n",
       "      <td>phishing</td>\n",
       "    </tr>\n",
       "    <tr>\n",
       "      <th>3</th>\n",
       "      <td>http://rgipt.ac.in</td>\n",
       "      <td>18</td>\n",
       "      <td>11</td>\n",
       "      <td>0</td>\n",
       "      <td>2</td>\n",
       "      <td>0</td>\n",
       "      <td>0</td>\n",
       "      <td>0</td>\n",
       "      <td>0</td>\n",
       "      <td>0</td>\n",
       "      <td>...</td>\n",
       "      <td>1</td>\n",
       "      <td>0</td>\n",
       "      <td>0</td>\n",
       "      <td>62</td>\n",
       "      <td>-1</td>\n",
       "      <td>107721</td>\n",
       "      <td>0</td>\n",
       "      <td>0</td>\n",
       "      <td>3</td>\n",
       "      <td>legitimate</td>\n",
       "    </tr>\n",
       "    <tr>\n",
       "      <th>4</th>\n",
       "      <td>http://www.iracing.com/tracks/gateway-motorspo...</td>\n",
       "      <td>55</td>\n",
       "      <td>15</td>\n",
       "      <td>0</td>\n",
       "      <td>2</td>\n",
       "      <td>2</td>\n",
       "      <td>0</td>\n",
       "      <td>0</td>\n",
       "      <td>0</td>\n",
       "      <td>0</td>\n",
       "      <td>...</td>\n",
       "      <td>0</td>\n",
       "      <td>1</td>\n",
       "      <td>0</td>\n",
       "      <td>224</td>\n",
       "      <td>8175</td>\n",
       "      <td>8725</td>\n",
       "      <td>0</td>\n",
       "      <td>0</td>\n",
       "      <td>6</td>\n",
       "      <td>legitimate</td>\n",
       "    </tr>\n",
       "    <tr>\n",
       "      <th>...</th>\n",
       "      <td>...</td>\n",
       "      <td>...</td>\n",
       "      <td>...</td>\n",
       "      <td>...</td>\n",
       "      <td>...</td>\n",
       "      <td>...</td>\n",
       "      <td>...</td>\n",
       "      <td>...</td>\n",
       "      <td>...</td>\n",
       "      <td>...</td>\n",
       "      <td>...</td>\n",
       "      <td>...</td>\n",
       "      <td>...</td>\n",
       "      <td>...</td>\n",
       "      <td>...</td>\n",
       "      <td>...</td>\n",
       "      <td>...</td>\n",
       "      <td>...</td>\n",
       "      <td>...</td>\n",
       "      <td>...</td>\n",
       "      <td>...</td>\n",
       "    </tr>\n",
       "    <tr>\n",
       "      <th>11425</th>\n",
       "      <td>http://www.fontspace.com/category/blackletter</td>\n",
       "      <td>45</td>\n",
       "      <td>17</td>\n",
       "      <td>0</td>\n",
       "      <td>2</td>\n",
       "      <td>0</td>\n",
       "      <td>0</td>\n",
       "      <td>0</td>\n",
       "      <td>0</td>\n",
       "      <td>0</td>\n",
       "      <td>...</td>\n",
       "      <td>0</td>\n",
       "      <td>0</td>\n",
       "      <td>0</td>\n",
       "      <td>448</td>\n",
       "      <td>5396</td>\n",
       "      <td>3980</td>\n",
       "      <td>0</td>\n",
       "      <td>0</td>\n",
       "      <td>6</td>\n",
       "      <td>legitimate</td>\n",
       "    </tr>\n",
       "    <tr>\n",
       "      <th>11426</th>\n",
       "      <td>http://www.budgetbots.com/server.php/Server%20...</td>\n",
       "      <td>84</td>\n",
       "      <td>18</td>\n",
       "      <td>0</td>\n",
       "      <td>5</td>\n",
       "      <td>0</td>\n",
       "      <td>1</td>\n",
       "      <td>1</td>\n",
       "      <td>0</td>\n",
       "      <td>0</td>\n",
       "      <td>...</td>\n",
       "      <td>1</td>\n",
       "      <td>0</td>\n",
       "      <td>0</td>\n",
       "      <td>211</td>\n",
       "      <td>6728</td>\n",
       "      <td>0</td>\n",
       "      <td>0</td>\n",
       "      <td>1</td>\n",
       "      <td>0</td>\n",
       "      <td>phishing</td>\n",
       "    </tr>\n",
       "    <tr>\n",
       "      <th>11427</th>\n",
       "      <td>https://www.facebook.com/Interactive-Televisio...</td>\n",
       "      <td>105</td>\n",
       "      <td>16</td>\n",
       "      <td>1</td>\n",
       "      <td>2</td>\n",
       "      <td>6</td>\n",
       "      <td>0</td>\n",
       "      <td>1</td>\n",
       "      <td>0</td>\n",
       "      <td>0</td>\n",
       "      <td>...</td>\n",
       "      <td>0</td>\n",
       "      <td>0</td>\n",
       "      <td>0</td>\n",
       "      <td>2809</td>\n",
       "      <td>8515</td>\n",
       "      <td>8</td>\n",
       "      <td>0</td>\n",
       "      <td>1</td>\n",
       "      <td>10</td>\n",
       "      <td>legitimate</td>\n",
       "    </tr>\n",
       "    <tr>\n",
       "      <th>11428</th>\n",
       "      <td>http://www.mypublicdomainpictures.com/</td>\n",
       "      <td>38</td>\n",
       "      <td>30</td>\n",
       "      <td>0</td>\n",
       "      <td>2</td>\n",
       "      <td>0</td>\n",
       "      <td>0</td>\n",
       "      <td>0</td>\n",
       "      <td>0</td>\n",
       "      <td>0</td>\n",
       "      <td>...</td>\n",
       "      <td>1</td>\n",
       "      <td>0</td>\n",
       "      <td>0</td>\n",
       "      <td>85</td>\n",
       "      <td>2836</td>\n",
       "      <td>2455493</td>\n",
       "      <td>0</td>\n",
       "      <td>0</td>\n",
       "      <td>4</td>\n",
       "      <td>legitimate</td>\n",
       "    </tr>\n",
       "    <tr>\n",
       "      <th>11429</th>\n",
       "      <td>http://174.139.46.123/ap/signin?openid.pape.ma...</td>\n",
       "      <td>477</td>\n",
       "      <td>14</td>\n",
       "      <td>1</td>\n",
       "      <td>24</td>\n",
       "      <td>0</td>\n",
       "      <td>1</td>\n",
       "      <td>1</td>\n",
       "      <td>9</td>\n",
       "      <td>0</td>\n",
       "      <td>...</td>\n",
       "      <td>1</td>\n",
       "      <td>1</td>\n",
       "      <td>1</td>\n",
       "      <td>0</td>\n",
       "      <td>-1</td>\n",
       "      <td>0</td>\n",
       "      <td>1</td>\n",
       "      <td>1</td>\n",
       "      <td>0</td>\n",
       "      <td>phishing</td>\n",
       "    </tr>\n",
       "  </tbody>\n",
       "</table>\n",
       "<p>11430 rows × 89 columns</p>\n",
       "</div>"
      ],
      "text/plain": [
       "                                                     url  length_url  \\\n",
       "0                  http://www.crestonwood.com/router.php          37   \n",
       "1      http://shadetreetechnology.com/V4/validation/a...          77   \n",
       "2      https://support-appleld.com.secureupdate.duila...         126   \n",
       "3                                     http://rgipt.ac.in          18   \n",
       "4      http://www.iracing.com/tracks/gateway-motorspo...          55   \n",
       "...                                                  ...         ...   \n",
       "11425      http://www.fontspace.com/category/blackletter          45   \n",
       "11426  http://www.budgetbots.com/server.php/Server%20...          84   \n",
       "11427  https://www.facebook.com/Interactive-Televisio...         105   \n",
       "11428             http://www.mypublicdomainpictures.com/          38   \n",
       "11429  http://174.139.46.123/ap/signin?openid.pape.ma...         477   \n",
       "\n",
       "       length_hostname  ip  nb_dots  nb_hyphens  nb_at  nb_qm  nb_and  nb_or  \\\n",
       "0                   19   0        3           0      0      0       0      0   \n",
       "1                   23   1        1           0      0      0       0      0   \n",
       "2                   50   1        4           1      0      1       2      0   \n",
       "3                   11   0        2           0      0      0       0      0   \n",
       "4                   15   0        2           2      0      0       0      0   \n",
       "...                ...  ..      ...         ...    ...    ...     ...    ...   \n",
       "11425               17   0        2           0      0      0       0      0   \n",
       "11426               18   0        5           0      1      1       0      0   \n",
       "11427               16   1        2           6      0      1       0      0   \n",
       "11428               30   0        2           0      0      0       0      0   \n",
       "11429               14   1       24           0      1      1       9      0   \n",
       "\n",
       "       ...  domain_in_title  domain_with_copyright  whois_registered_domain  \\\n",
       "0      ...                0                      1                        0   \n",
       "1      ...                1                      0                        0   \n",
       "2      ...                1                      0                        0   \n",
       "3      ...                1                      0                        0   \n",
       "4      ...                0                      1                        0   \n",
       "...    ...              ...                    ...                      ...   \n",
       "11425  ...                0                      0                        0   \n",
       "11426  ...                1                      0                        0   \n",
       "11427  ...                0                      0                        0   \n",
       "11428  ...                1                      0                        0   \n",
       "11429  ...                1                      1                        1   \n",
       "\n",
       "       domain_registration_length  domain_age  web_traffic  dns_record  \\\n",
       "0                              45          -1            0           1   \n",
       "1                              77        5767            0           0   \n",
       "2                              14        4004      5828815           0   \n",
       "3                              62          -1       107721           0   \n",
       "4                             224        8175         8725           0   \n",
       "...                           ...         ...          ...         ...   \n",
       "11425                         448        5396         3980           0   \n",
       "11426                         211        6728            0           0   \n",
       "11427                        2809        8515            8           0   \n",
       "11428                          85        2836      2455493           0   \n",
       "11429                           0          -1            0           1   \n",
       "\n",
       "       google_index  page_rank      status  \n",
       "0                 1          4  legitimate  \n",
       "1                 1          2    phishing  \n",
       "2                 1          0    phishing  \n",
       "3                 0          3  legitimate  \n",
       "4                 0          6  legitimate  \n",
       "...             ...        ...         ...  \n",
       "11425             0          6  legitimate  \n",
       "11426             1          0    phishing  \n",
       "11427             1         10  legitimate  \n",
       "11428             0          4  legitimate  \n",
       "11429             1          0    phishing  \n",
       "\n",
       "[11430 rows x 89 columns]"
      ]
     },
     "execution_count": 3,
     "metadata": {},
     "output_type": "execute_result"
    }
   ],
   "source": [
    "df = pd.read_csv (dataset)   #df = dataframe\n",
    "print(df.shape) \n",
    "df"
   ]
  },
  {
   "cell_type": "code",
   "execution_count": null,
   "metadata": {},
   "outputs": [],
   "source": [
    "df.isnull()"
   ]
  },
  {
   "cell_type": "code",
   "execution_count": null,
   "metadata": {},
   "outputs": [],
   "source": [
    "df.info()                    "
   ]
  },
  {
   "cell_type": "code",
   "execution_count": 5,
   "metadata": {},
   "outputs": [
    {
     "name": "stdout",
     "output_type": "stream",
     "text": [
      "11430\n",
      "0\n"
     ]
    }
   ],
   "source": [
    "#import pandas as pd\n",
    "import matplotlib.pyplot as plt\n",
    "\n",
    "# Conta o número de linhas duplicadas no\n",
    "num_duplicados = df.duplicated().sum()\n",
    "\n",
    "# Calcula o número total de linhas no DataFrame\n",
    "num_total_linhas = df.shape[0]\n",
    "\n",
    "# Calcular o número de linhas únicas (excluindo duplicatas)\n",
    "num_linhas_unicas = num_total_linhas - num_duplicados\n",
    "\n",
    "print (num_linhas_unicas)\n",
    "print(num_duplicados)\n"
   ]
  },
  {
   "cell_type": "code",
   "execution_count": 6,
   "metadata": {},
   "outputs": [
    {
     "data": {
      "text/plain": [
       "status\n",
       "legitimate    5715\n",
       "phishing      5715\n",
       "Name: count, dtype: int64"
      ]
     },
     "execution_count": 6,
     "metadata": {},
     "output_type": "execute_result"
    }
   ],
   "source": [
    "df['status'].value_counts()"
   ]
  },
  {
   "cell_type": "code",
   "execution_count": 4,
   "metadata": {},
   "outputs": [],
   "source": [
    "# Converter os rótulos 'legitimate' para 0 e 'phishing' para 1\n",
    "mapping = {'legitimate':0, 'phishing':1}\n",
    "df['status'] = df['status'].map(mapping)\n"
   ]
  },
  {
   "cell_type": "code",
   "execution_count": 5,
   "metadata": {},
   "outputs": [
    {
     "data": {
      "text/plain": [
       "status\n",
       "0    5715\n",
       "1    5715\n",
       "Name: count, dtype: int64"
      ]
     },
     "execution_count": 5,
     "metadata": {},
     "output_type": "execute_result"
    }
   ],
   "source": [
    "df['status'].value_counts()\n"
   ]
  },
  {
   "cell_type": "code",
   "execution_count": 6,
   "metadata": {},
   "outputs": [
    {
     "data": {
      "text/html": [
       "<div>\n",
       "<style scoped>\n",
       "    .dataframe tbody tr th:only-of-type {\n",
       "        vertical-align: middle;\n",
       "    }\n",
       "\n",
       "    .dataframe tbody tr th {\n",
       "        vertical-align: top;\n",
       "    }\n",
       "\n",
       "    .dataframe thead th {\n",
       "        text-align: right;\n",
       "    }\n",
       "</style>\n",
       "<table border=\"1\" class=\"dataframe\">\n",
       "  <thead>\n",
       "    <tr style=\"text-align: right;\">\n",
       "      <th></th>\n",
       "      <th>length_url</th>\n",
       "      <th>length_hostname</th>\n",
       "      <th>ip</th>\n",
       "      <th>nb_dots</th>\n",
       "      <th>nb_hyphens</th>\n",
       "      <th>nb_at</th>\n",
       "      <th>nb_qm</th>\n",
       "      <th>nb_and</th>\n",
       "      <th>nb_or</th>\n",
       "      <th>nb_eq</th>\n",
       "      <th>...</th>\n",
       "      <th>domain_in_title</th>\n",
       "      <th>domain_with_copyright</th>\n",
       "      <th>whois_registered_domain</th>\n",
       "      <th>domain_registration_length</th>\n",
       "      <th>domain_age</th>\n",
       "      <th>web_traffic</th>\n",
       "      <th>dns_record</th>\n",
       "      <th>google_index</th>\n",
       "      <th>page_rank</th>\n",
       "      <th>status</th>\n",
       "    </tr>\n",
       "  </thead>\n",
       "  <tbody>\n",
       "    <tr>\n",
       "      <th>length_url</th>\n",
       "      <td>1.000000</td>\n",
       "      <td>0.223025</td>\n",
       "      <td>0.453961</td>\n",
       "      <td>0.443589</td>\n",
       "      <td>0.399564</td>\n",
       "      <td>0.150739</td>\n",
       "      <td>0.520930</td>\n",
       "      <td>0.576268</td>\n",
       "      <td>NaN</td>\n",
       "      <td>0.621745</td>\n",
       "      <td>...</td>\n",
       "      <td>0.125159</td>\n",
       "      <td>-0.006476</td>\n",
       "      <td>-0.007082</td>\n",
       "      <td>0.002799</td>\n",
       "      <td>-0.006798</td>\n",
       "      <td>0.072205</td>\n",
       "      <td>0.023357</td>\n",
       "      <td>0.236395</td>\n",
       "      <td>-0.102582</td>\n",
       "      <td>0.248580</td>\n",
       "    </tr>\n",
       "    <tr>\n",
       "      <th>length_hostname</th>\n",
       "      <td>0.223025</td>\n",
       "      <td>1.000000</td>\n",
       "      <td>0.252013</td>\n",
       "      <td>0.408956</td>\n",
       "      <td>0.057702</td>\n",
       "      <td>0.071793</td>\n",
       "      <td>0.162400</td>\n",
       "      <td>0.145617</td>\n",
       "      <td>NaN</td>\n",
       "      <td>0.183405</td>\n",
       "      <td>...</td>\n",
       "      <td>0.217284</td>\n",
       "      <td>0.074707</td>\n",
       "      <td>-0.097794</td>\n",
       "      <td>-0.041081</td>\n",
       "      <td>0.013854</td>\n",
       "      <td>0.163238</td>\n",
       "      <td>-0.023344</td>\n",
       "      <td>0.213990</td>\n",
       "      <td>-0.159342</td>\n",
       "      <td>0.238322</td>\n",
       "    </tr>\n",
       "    <tr>\n",
       "      <th>ip</th>\n",
       "      <td>0.453961</td>\n",
       "      <td>0.252013</td>\n",
       "      <td>1.000000</td>\n",
       "      <td>0.288398</td>\n",
       "      <td>0.109860</td>\n",
       "      <td>0.059401</td>\n",
       "      <td>0.405434</td>\n",
       "      <td>0.383262</td>\n",
       "      <td>NaN</td>\n",
       "      <td>0.440972</td>\n",
       "      <td>...</td>\n",
       "      <td>0.137716</td>\n",
       "      <td>0.014561</td>\n",
       "      <td>0.053246</td>\n",
       "      <td>-0.108869</td>\n",
       "      <td>-0.077020</td>\n",
       "      <td>0.167930</td>\n",
       "      <td>0.127823</td>\n",
       "      <td>0.270743</td>\n",
       "      <td>-0.218968</td>\n",
       "      <td>0.321698</td>\n",
       "    </tr>\n",
       "    <tr>\n",
       "      <th>nb_dots</th>\n",
       "      <td>0.443589</td>\n",
       "      <td>0.408956</td>\n",
       "      <td>0.288398</td>\n",
       "      <td>1.000000</td>\n",
       "      <td>0.045099</td>\n",
       "      <td>0.263283</td>\n",
       "      <td>0.347411</td>\n",
       "      <td>0.435798</td>\n",
       "      <td>NaN</td>\n",
       "      <td>0.414902</td>\n",
       "      <td>...</td>\n",
       "      <td>0.107789</td>\n",
       "      <td>0.055560</td>\n",
       "      <td>0.056407</td>\n",
       "      <td>-0.024117</td>\n",
       "      <td>-0.007818</td>\n",
       "      <td>0.087969</td>\n",
       "      <td>0.126659</td>\n",
       "      <td>0.209616</td>\n",
       "      <td>-0.097312</td>\n",
       "      <td>0.207029</td>\n",
       "    </tr>\n",
       "    <tr>\n",
       "      <th>nb_hyphens</th>\n",
       "      <td>0.399564</td>\n",
       "      <td>0.057702</td>\n",
       "      <td>0.109860</td>\n",
       "      <td>0.045099</td>\n",
       "      <td>1.000000</td>\n",
       "      <td>0.018770</td>\n",
       "      <td>0.036804</td>\n",
       "      <td>0.120487</td>\n",
       "      <td>NaN</td>\n",
       "      <td>0.107050</td>\n",
       "      <td>...</td>\n",
       "      <td>0.006909</td>\n",
       "      <td>0.020297</td>\n",
       "      <td>-0.055794</td>\n",
       "      <td>0.038163</td>\n",
       "      <td>0.080104</td>\n",
       "      <td>-0.041464</td>\n",
       "      <td>-0.031477</td>\n",
       "      <td>-0.018828</td>\n",
       "      <td>0.104341</td>\n",
       "      <td>-0.100107</td>\n",
       "    </tr>\n",
       "    <tr>\n",
       "      <th>...</th>\n",
       "      <td>...</td>\n",
       "      <td>...</td>\n",
       "      <td>...</td>\n",
       "      <td>...</td>\n",
       "      <td>...</td>\n",
       "      <td>...</td>\n",
       "      <td>...</td>\n",
       "      <td>...</td>\n",
       "      <td>...</td>\n",
       "      <td>...</td>\n",
       "      <td>...</td>\n",
       "      <td>...</td>\n",
       "      <td>...</td>\n",
       "      <td>...</td>\n",
       "      <td>...</td>\n",
       "      <td>...</td>\n",
       "      <td>...</td>\n",
       "      <td>...</td>\n",
       "      <td>...</td>\n",
       "      <td>...</td>\n",
       "      <td>...</td>\n",
       "    </tr>\n",
       "    <tr>\n",
       "      <th>web_traffic</th>\n",
       "      <td>0.072205</td>\n",
       "      <td>0.163238</td>\n",
       "      <td>0.167930</td>\n",
       "      <td>0.087969</td>\n",
       "      <td>-0.041464</td>\n",
       "      <td>-0.009459</td>\n",
       "      <td>0.143777</td>\n",
       "      <td>0.164797</td>\n",
       "      <td>NaN</td>\n",
       "      <td>0.187809</td>\n",
       "      <td>...</td>\n",
       "      <td>0.081786</td>\n",
       "      <td>0.083888</td>\n",
       "      <td>0.022598</td>\n",
       "      <td>-0.110435</td>\n",
       "      <td>-0.096698</td>\n",
       "      <td>1.000000</td>\n",
       "      <td>-0.007113</td>\n",
       "      <td>0.034099</td>\n",
       "      <td>-0.209526</td>\n",
       "      <td>0.060388</td>\n",
       "    </tr>\n",
       "    <tr>\n",
       "      <th>dns_record</th>\n",
       "      <td>0.023357</td>\n",
       "      <td>-0.023344</td>\n",
       "      <td>0.127823</td>\n",
       "      <td>0.126659</td>\n",
       "      <td>-0.031477</td>\n",
       "      <td>0.031611</td>\n",
       "      <td>0.009441</td>\n",
       "      <td>0.076372</td>\n",
       "      <td>NaN</td>\n",
       "      <td>0.052159</td>\n",
       "      <td>...</td>\n",
       "      <td>0.062084</td>\n",
       "      <td>0.043817</td>\n",
       "      <td>0.213899</td>\n",
       "      <td>-0.060811</td>\n",
       "      <td>-0.068023</td>\n",
       "      <td>-0.007113</td>\n",
       "      <td>1.000000</td>\n",
       "      <td>0.096413</td>\n",
       "      <td>-0.142135</td>\n",
       "      <td>0.122119</td>\n",
       "    </tr>\n",
       "    <tr>\n",
       "      <th>google_index</th>\n",
       "      <td>0.236395</td>\n",
       "      <td>0.213990</td>\n",
       "      <td>0.270743</td>\n",
       "      <td>0.209616</td>\n",
       "      <td>-0.018828</td>\n",
       "      <td>0.113217</td>\n",
       "      <td>0.201260</td>\n",
       "      <td>0.129093</td>\n",
       "      <td>NaN</td>\n",
       "      <td>0.167385</td>\n",
       "      <td>...</td>\n",
       "      <td>0.267465</td>\n",
       "      <td>-0.143655</td>\n",
       "      <td>0.040633</td>\n",
       "      <td>-0.134656</td>\n",
       "      <td>-0.210111</td>\n",
       "      <td>0.034099</td>\n",
       "      <td>0.096413</td>\n",
       "      <td>1.000000</td>\n",
       "      <td>-0.389887</td>\n",
       "      <td>0.731171</td>\n",
       "    </tr>\n",
       "    <tr>\n",
       "      <th>page_rank</th>\n",
       "      <td>-0.102582</td>\n",
       "      <td>-0.159342</td>\n",
       "      <td>-0.218968</td>\n",
       "      <td>-0.097312</td>\n",
       "      <td>0.104341</td>\n",
       "      <td>-0.066356</td>\n",
       "      <td>-0.123852</td>\n",
       "      <td>-0.126164</td>\n",
       "      <td>NaN</td>\n",
       "      <td>-0.133089</td>\n",
       "      <td>...</td>\n",
       "      <td>-0.330810</td>\n",
       "      <td>0.058843</td>\n",
       "      <td>-0.155990</td>\n",
       "      <td>0.345751</td>\n",
       "      <td>0.589602</td>\n",
       "      <td>-0.209526</td>\n",
       "      <td>-0.142135</td>\n",
       "      <td>-0.389887</td>\n",
       "      <td>1.000000</td>\n",
       "      <td>-0.511137</td>\n",
       "    </tr>\n",
       "    <tr>\n",
       "      <th>status</th>\n",
       "      <td>0.248580</td>\n",
       "      <td>0.238322</td>\n",
       "      <td>0.321698</td>\n",
       "      <td>0.207029</td>\n",
       "      <td>-0.100107</td>\n",
       "      <td>0.142915</td>\n",
       "      <td>0.294319</td>\n",
       "      <td>0.170546</td>\n",
       "      <td>NaN</td>\n",
       "      <td>0.233386</td>\n",
       "      <td>...</td>\n",
       "      <td>0.342807</td>\n",
       "      <td>-0.173098</td>\n",
       "      <td>0.066979</td>\n",
       "      <td>-0.161719</td>\n",
       "      <td>-0.331889</td>\n",
       "      <td>0.060388</td>\n",
       "      <td>0.122119</td>\n",
       "      <td>0.731171</td>\n",
       "      <td>-0.511137</td>\n",
       "      <td>1.000000</td>\n",
       "    </tr>\n",
       "  </tbody>\n",
       "</table>\n",
       "<p>88 rows × 88 columns</p>\n",
       "</div>"
      ],
      "text/plain": [
       "                 length_url  length_hostname        ip   nb_dots  nb_hyphens  \\\n",
       "length_url         1.000000         0.223025  0.453961  0.443589    0.399564   \n",
       "length_hostname    0.223025         1.000000  0.252013  0.408956    0.057702   \n",
       "ip                 0.453961         0.252013  1.000000  0.288398    0.109860   \n",
       "nb_dots            0.443589         0.408956  0.288398  1.000000    0.045099   \n",
       "nb_hyphens         0.399564         0.057702  0.109860  0.045099    1.000000   \n",
       "...                     ...              ...       ...       ...         ...   \n",
       "web_traffic        0.072205         0.163238  0.167930  0.087969   -0.041464   \n",
       "dns_record         0.023357        -0.023344  0.127823  0.126659   -0.031477   \n",
       "google_index       0.236395         0.213990  0.270743  0.209616   -0.018828   \n",
       "page_rank         -0.102582        -0.159342 -0.218968 -0.097312    0.104341   \n",
       "status             0.248580         0.238322  0.321698  0.207029   -0.100107   \n",
       "\n",
       "                    nb_at     nb_qm    nb_and  nb_or     nb_eq  ...  \\\n",
       "length_url       0.150739  0.520930  0.576268    NaN  0.621745  ...   \n",
       "length_hostname  0.071793  0.162400  0.145617    NaN  0.183405  ...   \n",
       "ip               0.059401  0.405434  0.383262    NaN  0.440972  ...   \n",
       "nb_dots          0.263283  0.347411  0.435798    NaN  0.414902  ...   \n",
       "nb_hyphens       0.018770  0.036804  0.120487    NaN  0.107050  ...   \n",
       "...                   ...       ...       ...    ...       ...  ...   \n",
       "web_traffic     -0.009459  0.143777  0.164797    NaN  0.187809  ...   \n",
       "dns_record       0.031611  0.009441  0.076372    NaN  0.052159  ...   \n",
       "google_index     0.113217  0.201260  0.129093    NaN  0.167385  ...   \n",
       "page_rank       -0.066356 -0.123852 -0.126164    NaN -0.133089  ...   \n",
       "status           0.142915  0.294319  0.170546    NaN  0.233386  ...   \n",
       "\n",
       "                 domain_in_title  domain_with_copyright  \\\n",
       "length_url              0.125159              -0.006476   \n",
       "length_hostname         0.217284               0.074707   \n",
       "ip                      0.137716               0.014561   \n",
       "nb_dots                 0.107789               0.055560   \n",
       "nb_hyphens              0.006909               0.020297   \n",
       "...                          ...                    ...   \n",
       "web_traffic             0.081786               0.083888   \n",
       "dns_record              0.062084               0.043817   \n",
       "google_index            0.267465              -0.143655   \n",
       "page_rank              -0.330810               0.058843   \n",
       "status                  0.342807              -0.173098   \n",
       "\n",
       "                 whois_registered_domain  domain_registration_length  \\\n",
       "length_url                     -0.007082                    0.002799   \n",
       "length_hostname                -0.097794                   -0.041081   \n",
       "ip                              0.053246                   -0.108869   \n",
       "nb_dots                         0.056407                   -0.024117   \n",
       "nb_hyphens                     -0.055794                    0.038163   \n",
       "...                                  ...                         ...   \n",
       "web_traffic                     0.022598                   -0.110435   \n",
       "dns_record                      0.213899                   -0.060811   \n",
       "google_index                    0.040633                   -0.134656   \n",
       "page_rank                      -0.155990                    0.345751   \n",
       "status                          0.066979                   -0.161719   \n",
       "\n",
       "                 domain_age  web_traffic  dns_record  google_index  page_rank  \\\n",
       "length_url        -0.006798     0.072205    0.023357      0.236395  -0.102582   \n",
       "length_hostname    0.013854     0.163238   -0.023344      0.213990  -0.159342   \n",
       "ip                -0.077020     0.167930    0.127823      0.270743  -0.218968   \n",
       "nb_dots           -0.007818     0.087969    0.126659      0.209616  -0.097312   \n",
       "nb_hyphens         0.080104    -0.041464   -0.031477     -0.018828   0.104341   \n",
       "...                     ...          ...         ...           ...        ...   \n",
       "web_traffic       -0.096698     1.000000   -0.007113      0.034099  -0.209526   \n",
       "dns_record        -0.068023    -0.007113    1.000000      0.096413  -0.142135   \n",
       "google_index      -0.210111     0.034099    0.096413      1.000000  -0.389887   \n",
       "page_rank          0.589602    -0.209526   -0.142135     -0.389887   1.000000   \n",
       "status            -0.331889     0.060388    0.122119      0.731171  -0.511137   \n",
       "\n",
       "                   status  \n",
       "length_url       0.248580  \n",
       "length_hostname  0.238322  \n",
       "ip               0.321698  \n",
       "nb_dots          0.207029  \n",
       "nb_hyphens      -0.100107  \n",
       "...                   ...  \n",
       "web_traffic      0.060388  \n",
       "dns_record       0.122119  \n",
       "google_index     0.731171  \n",
       "page_rank       -0.511137  \n",
       "status           1.000000  \n",
       "\n",
       "[88 rows x 88 columns]"
      ]
     },
     "execution_count": 6,
     "metadata": {},
     "output_type": "execute_result"
    }
   ],
   "source": [
    "# calcula a correlação apenas entre as colunas numéricas do DataFrame,\n",
    "# ignorando colunas que  não contenham dados numéricos\n",
    "corr_matrix = df.corr(numeric_only=True)\n",
    "corr_matrix"
   ]
  },
  {
   "cell_type": "code",
   "execution_count": 7,
   "metadata": {},
   "outputs": [
    {
     "data": {
      "text/plain": [
       "length_url         0.248580\n",
       "length_hostname    0.238322\n",
       "ip                 0.321698\n",
       "nb_dots            0.207029\n",
       "nb_hyphens        -0.100107\n",
       "                     ...   \n",
       "web_traffic        0.060388\n",
       "dns_record         0.122119\n",
       "google_index       0.731171\n",
       "page_rank         -0.511137\n",
       "status             1.000000\n",
       "Name: status, Length: 88, dtype: float64"
      ]
     },
     "execution_count": 7,
     "metadata": {},
     "output_type": "execute_result"
    }
   ],
   "source": [
    "# calcula a correlação entre a coluna 'status'e as outras colunas numéricas do DataFrame\n",
    "target_corr = corr_matrix['status']\n",
    "target_corr"
   ]
  },
  {
   "cell_type": "code",
   "execution_count": 8,
   "metadata": {},
   "outputs": [
    {
     "data": {
      "text/plain": [
       "['length_url',\n",
       " 'length_hostname',\n",
       " 'ip',\n",
       " 'nb_dots',\n",
       " 'nb_hyphens',\n",
       " 'nb_at',\n",
       " 'nb_qm',\n",
       " 'nb_and',\n",
       " 'nb_eq',\n",
       " 'nb_slash',\n",
       " 'nb_semicolumn',\n",
       " 'nb_www',\n",
       " 'nb_com',\n",
       " 'https_token',\n",
       " 'ratio_digits_url',\n",
       " 'ratio_digits_host',\n",
       " 'tld_in_subdomain',\n",
       " 'abnormal_subdomain',\n",
       " 'nb_subdomains',\n",
       " 'prefix_suffix',\n",
       " 'shortening_service',\n",
       " 'length_words_raw',\n",
       " 'shortest_word_host',\n",
       " 'longest_words_raw',\n",
       " 'longest_word_host',\n",
       " 'longest_word_path',\n",
       " 'avg_words_raw',\n",
       " 'avg_word_host',\n",
       " 'avg_word_path',\n",
       " 'phish_hints',\n",
       " 'suspecious_tld',\n",
       " 'statistical_report',\n",
       " 'nb_hyperlinks',\n",
       " 'ratio_intHyperlinks',\n",
       " 'ratio_extRedirection',\n",
       " 'external_favicon',\n",
       " 'links_in_tags',\n",
       " 'ratio_intMedia',\n",
       " 'ratio_extMedia',\n",
       " 'safe_anchor',\n",
       " 'empty_title',\n",
       " 'domain_in_title',\n",
       " 'domain_with_copyright',\n",
       " 'domain_registration_length',\n",
       " 'domain_age',\n",
       " 'dns_record',\n",
       " 'google_index',\n",
       " 'page_rank',\n",
       " 'status']"
      ]
     },
     "execution_count": 8,
     "metadata": {},
     "output_type": "execute_result"
    }
   ],
   "source": [
    "# filtra caracteristicas com base na correlção mínima com o atributo  'status' \n",
    "\n",
    "threshold=0.1\n",
    "#escolhe apenas recursos com correlação com 'status' com valor de abs > 0,1 \n",
    "relevant_features = target_corr[abs(target_corr)>threshold].index.tolist() \n",
    "#calcula a correlação de cada caracteristica com 'status' e filtra o valor com abs maior que 0.1\n",
    "#obtem o indece dessa caracteristcas \n",
    "relevant_features\n"
   ]
  },
  {
   "cell_type": "code",
   "execution_count": 9,
   "metadata": {},
   "outputs": [],
   "source": [
    "X = df[relevant_features]\n",
    "X = X.drop('status', axis=1) \n",
    "y = df['status']"
   ]
  },
  {
   "cell_type": "code",
   "execution_count": null,
   "metadata": {},
   "outputs": [],
   "source": [
    "X.head()"
   ]
  },
  {
   "cell_type": "code",
   "execution_count": null,
   "metadata": {},
   "outputs": [],
   "source": [
    "y.head()"
   ]
  },
  {
   "cell_type": "markdown",
   "metadata": {},
   "source": [
    "### Modelo de desenvolvimento"
   ]
  },
  {
   "cell_type": "code",
   "execution_count": 10,
   "metadata": {},
   "outputs": [],
   "source": [
    "X_train, X_test, y_train, y_test= train_test_split(X,y, test_size=0.2, random_state=42)\n"
   ]
  },
  {
   "cell_type": "code",
   "execution_count": 11,
   "metadata": {},
   "outputs": [],
   "source": [
    "scaler = StandardScaler()"
   ]
  },
  {
   "cell_type": "code",
   "execution_count": 12,
   "metadata": {},
   "outputs": [],
   "source": [
    "X_train_scaled = scaler.fit_transform(X_train)\n",
    "X_test_scaled = scaler.fit_transform(X_test)"
   ]
  },
  {
   "cell_type": "markdown",
   "metadata": {},
   "source": [
    "### SVM (Support Vector Machine)"
   ]
  },
  {
   "cell_type": "code",
   "execution_count": 228,
   "metadata": {},
   "outputs": [],
   "source": [
    "svm = SVC().fit(X_train_scaled,y_train)"
   ]
  },
  {
   "cell_type": "code",
   "execution_count": 211,
   "metadata": {},
   "outputs": [],
   "source": [
    "svm_predict = svm.predict(X_test_scaled)"
   ]
  },
  {
   "cell_type": "code",
   "execution_count": 212,
   "metadata": {},
   "outputs": [
    {
     "name": "stdout",
     "output_type": "stream",
     "text": [
      "Accuracy:97%\n"
     ]
    }
   ],
   "source": [
    "accuracy = accuracy_score(y_test,svm_predict)\n",
    "print(\"Accuracy:{}%\".format(round(accuracy *100), 1))"
   ]
  },
  {
   "cell_type": "code",
   "execution_count": 213,
   "metadata": {},
   "outputs": [],
   "source": [
    "svm_Accuracy_Score = accuracy_score(y_test,svm_predict)\n",
    "svm_JaccardIndex = jaccard_score(y_test,svm_predict)\n",
    "svm_F1_Score = f1_score(y_test,svm_predict)\n",
    "svm_Log_Loss = log_loss(y_test,svm_predict)"
   ]
  },
  {
   "cell_type": "code",
   "execution_count": 214,
   "metadata": {},
   "outputs": [
    {
     "name": "stdout",
     "output_type": "stream",
     "text": [
      "Accuracy: 0.9654418197725284\n",
      "Jaccard Index: 0.9321888412017167\n",
      "F1 Score: 0.9649044868947134\n",
      "Log Loss: 1.245603069877627\n"
     ]
    }
   ],
   "source": [
    "print(f\"Accuracy: {svm_Accuracy_Score}\")\n",
    "print(f\"Jaccard Index: {svm_JaccardIndex}\")\n",
    "print(f\"F1 Score: {svm_F1_Score}\")\n",
    "print(f\"Log Loss: {svm_Log_Loss}\")"
   ]
  },
  {
   "cell_type": "code",
   "execution_count": 215,
   "metadata": {},
   "outputs": [
    {
     "data": {
      "text/plain": [
       "array([[1121,   36],\n",
       "       [  43, 1086]], dtype=int64)"
      ]
     },
     "execution_count": 215,
     "metadata": {},
     "output_type": "execute_result"
    }
   ],
   "source": [
    "svm_conf_matrix = confusion_matrix(y_test,svm_predict)\n",
    "svm_conf_matrix"
   ]
  },
  {
   "cell_type": "code",
   "execution_count": 216,
   "metadata": {},
   "outputs": [
    {
     "data": {
      "image/png": "[encoded data removed]",
      "text/plain": [
       "<Figure size 640x480 with 2 Axes>"
      ]
     },
     "metadata": {},
     "output_type": "display_data"
    }
   ],
   "source": [
    "sns.heatmap(svm_conf_matrix,annot=True, fmt = 'd',cmap='Greens')\n",
    "plt.xlabel('Predicted Label')\n",
    "plt.ylabel('True Label')\n",
    "plt.title('Confusion Matrix ')\n",
    "plt.show()"
   ]
  },
  {
   "cell_type": "markdown",
   "metadata": {},
   "source": [
    "### Classificador Random Forest"
   ]
  },
  {
   "cell_type": "code",
   "execution_count": 227,
   "metadata": {},
   "outputs": [],
   "source": [
    "rf = RandomForestClassifier().fit(X_train_scaled,y_train)\n",
    "#treina o modelo para aprender a relação entre os dados que foi passado no paramentro "
   ]
  },
  {
   "cell_type": "code",
   "execution_count": 221,
   "metadata": {},
   "outputs": [],
   "source": [
    "rf_predict = rf.predict(X_test_scaled)"
   ]
  },
  {
   "cell_type": "code",
   "execution_count": 217,
   "metadata": {},
   "outputs": [
    {
     "name": "stdout",
     "output_type": "stream",
     "text": [
      "Accuracy:96%\n"
     ]
    }
   ],
   "source": [
    "accuracy = accuracy_score(y_test,rf_predict)\n",
    "print(\"Accuracy:{}%\".format(round(accuracy *100), 1))"
   ]
  },
  {
   "cell_type": "code",
   "execution_count": 218,
   "metadata": {},
   "outputs": [],
   "source": [
    "rf_Accuracy_Score = accuracy_score(y_test,rf_predict)\n",
    "rf_JaccardIndex = jaccard_score(y_test,rf_predict)\n",
    "rf_F1_Score = f1_score(y_test,rf_predict)\n",
    "rf_Log_Loss = log_loss(y_test,rf_predict)"
   ]
  },
  {
   "cell_type": "code",
   "execution_count": 223,
   "metadata": {},
   "outputs": [
    {
     "name": "stdout",
     "output_type": "stream",
     "text": [
      "Accuracy: 0.9615048118985127\n",
      "Jaccard Index: 0.924006908462867\n",
      "F1 Score: 0.9605026929982047\n",
      "Log Loss: 1.3875072170788758\n"
     ]
    }
   ],
   "source": [
    "print(f\"Accuracy: {rf_Accuracy_Score}\")\n",
    "print(f\"Jaccard Index: {rf_JaccardIndex}\")\n",
    "print(f\"F1 Score: {rf_F1_Score}\")\n",
    "print(f\"Log Loss: {rf_Log_Loss}\")"
   ]
  },
  {
   "cell_type": "code",
   "execution_count": 224,
   "metadata": {},
   "outputs": [
    {
     "data": {
      "text/plain": [
       "array([[1122,   35],\n",
       "       [  48, 1081]], dtype=int64)"
      ]
     },
     "execution_count": 224,
     "metadata": {},
     "output_type": "execute_result"
    }
   ],
   "source": [
    "rf_conf_matrix = confusion_matrix(y_test,rf_predict)\n",
    "rf_conf_matrix"
   ]
  },
  {
   "cell_type": "code",
   "execution_count": 225,
   "metadata": {},
   "outputs": [
    {
     "data": {
      "image/png": "[encoded data removed]",
      "text/plain": [
       "<Figure size 640x480 with 2 Axes>"
      ]
     },
     "metadata": {},
     "output_type": "display_data"
    }
   ],
   "source": [
    "sns.heatmap(rf_conf_matrix,annot=True, fmt = 'd',cmap='Greens')\n",
    "plt.xlabel('Predicted Label')\n",
    "plt.ylabel('True Label')\n",
    "plt.title('Confusion Matrix')\n",
    "plt.show()"
   ]
  },
  {
   "cell_type": "code",
   "execution_count": 65,
   "metadata": {},
   "outputs": [
    {
     "name": "stdout",
     "output_type": "stream",
     "text": [
      "              precision    recall  f1-score   support\n",
      "\n",
      "           0       0.95      0.97      0.96      1157\n",
      "           1       0.97      0.95      0.96      1129\n",
      "\n",
      "    accuracy                           0.96      2286\n",
      "   macro avg       0.96      0.96      0.96      2286\n",
      "weighted avg       0.96      0.96      0.96      2286\n",
      "\n"
     ]
    }
   ],
   "source": [
    "rf_report = classification_report(y_test,rf_predict)\n",
    "print(rf_report)"
   ]
  },
  {
   "cell_type": "markdown",
   "metadata": {},
   "source": [
    "### Logistic Regression"
   ]
  },
  {
   "cell_type": "code",
   "execution_count": 229,
   "metadata": {},
   "outputs": [],
   "source": [
    "from sklearn.linear_model import LogisticRegression\n",
    "lr=LogisticRegression().fit(X_train_scaled,y_train)"
   ]
  },
  {
   "cell_type": "code",
   "execution_count": 230,
   "metadata": {},
   "outputs": [],
   "source": [
    "lr_predict = lr.predict(X_test_scaled)"
   ]
  },
  {
   "cell_type": "code",
   "execution_count": 231,
   "metadata": {},
   "outputs": [
    {
     "name": "stdout",
     "output_type": "stream",
     "text": [
      "Accuracy:95%\n"
     ]
    }
   ],
   "source": [
    "accuracy = accuracy_score(y_test,lr_predict)\n",
    "print(\"Accuracy:{}%\".format(round(accuracy *100), 1))"
   ]
  },
  {
   "cell_type": "code",
   "execution_count": 232,
   "metadata": {},
   "outputs": [],
   "source": [
    "lr_Accuracy_Score = accuracy_score(y_test,lr_predict)\n",
    "lr_JaccardIndex = jaccard_score(y_test,lr_predict)\n",
    "lr_F1_Score = f1_score(y_test,lr_predict)\n",
    "lr_Log_Loss = log_loss(y_test,lr_predict)"
   ]
  },
  {
   "cell_type": "code",
   "execution_count": 233,
   "metadata": {},
   "outputs": [
    {
     "name": "stdout",
     "output_type": "stream",
     "text": [
      "Accuracy: 0.947069116360455\n",
      "Jaccard Index: 0.8983193277310925\n",
      "F1 Score: 0.9464364763169544\n",
      "Log Loss: 1.907822423483454\n"
     ]
    }
   ],
   "source": [
    "print(f\"Accuracy: {lr_Accuracy_Score}\")\n",
    "print(f\"Jaccard Index: {lr_JaccardIndex}\")\n",
    "print(f\"F1 Score: {lr_F1_Score}\")\n",
    "print(f\"Log Loss: {lr_Log_Loss}\")"
   ]
  },
  {
   "cell_type": "code",
   "execution_count": 234,
   "metadata": {},
   "outputs": [
    {
     "data": {
      "text/plain": [
       "array([[1096,   61],\n",
       "       [  60, 1069]], dtype=int64)"
      ]
     },
     "execution_count": 234,
     "metadata": {},
     "output_type": "execute_result"
    }
   ],
   "source": [
    "lr_conf_matrix = confusion_matrix(y_test,lr_predict)\n",
    "lr_conf_matrix"
   ]
  },
  {
   "cell_type": "code",
   "execution_count": 235,
   "metadata": {},
   "outputs": [
    {
     "data": {
      "image/png": "[encoded data removed]",
      "text/plain": [
       "<Figure size 640x480 with 2 Axes>"
      ]
     },
     "metadata": {},
     "output_type": "display_data"
    }
   ],
   "source": [
    "sns.heatmap(lr_conf_matrix,annot=True, fmt = 'd',cmap='Greens')\n",
    "plt.xlabel('Predicted Label')\n",
    "plt.ylabel('True Label')\n",
    "plt.title('Confusion Matrix')\n",
    "plt.show()"
   ]
  },
  {
   "cell_type": "markdown",
   "metadata": {},
   "source": [
    "### Classificador KNeighborsClassifier"
   ]
  },
  {
   "cell_type": "code",
   "execution_count": 240,
   "metadata": {},
   "outputs": [
    {
     "data": {
      "text/plain": [
       "0.9510061242344707"
      ]
     },
     "execution_count": 240,
     "metadata": {},
     "output_type": "execute_result"
    }
   ],
   "source": [
    "from sklearn.neighbors import KNeighborsClassifier\n",
    "kn = KNeighborsClassifier().fit(X_train_scaled,y_train)\n",
    "kn_predict = kn.predict(X_test_scaled)\n",
    "accuracy = accuracy_score(y_test,kn_predict)\n",
    "accuracy\n",
    "#print(\"Accuracy:{}%\".format(round(accuracy *100), 1))"
   ]
  },
  {
   "cell_type": "markdown",
   "metadata": {},
   "source": [
    "### Classificador GaussianNB"
   ]
  },
  {
   "cell_type": "code",
   "execution_count": 241,
   "metadata": {},
   "outputs": [
    {
     "data": {
      "text/plain": [
       "0.49387576552930884"
      ]
     },
     "execution_count": 241,
     "metadata": {},
     "output_type": "execute_result"
    }
   ],
   "source": [
    "from sklearn.naive_bayes import GaussianNB\n",
    "gnb = GaussianNB().fit(X_train_scaled,y_train)\n",
    "gnb_predict = gnb.predict(X_test_scaled)\n",
    "accuracy = accuracy_score(y_test,gnb_predict)\n",
    "accuracy\n",
    "#print(\"Accuracy:{}%\".format(round(accuracy *100), 1))"
   ]
  },
  {
   "cell_type": "markdown",
   "metadata": {},
   "source": [
    "### Modelo de Acurácia "
   ]
  },
  {
   "cell_type": "code",
   "execution_count": 242,
   "metadata": {},
   "outputs": [],
   "source": [
    "accuracy_scores = {\n",
    "    'Logistic Regression' : round(accuracy_score(y_test,lr_predict), 2),\n",
    "    'Random Forest' : round(accuracy_score(y_test,rf_predict), 2),\n",
    "    'SVM' : round(accuracy_score(y_test,svm_predict), 2),\n",
    "    'KNeighbors' : round(accuracy_score(y_test,kn_predict), 2),\n",
    "    'GaussianNB' : round(accuracy_score(y_test,gnb_predict), 2),\n",
    "}"
   ]
  },
  {
   "cell_type": "code",
   "execution_count": 243,
   "metadata": {},
   "outputs": [
    {
     "data": {
      "text/html": [
       "<div>\n",
       "<style scoped>\n",
       "    .dataframe tbody tr th:only-of-type {\n",
       "        vertical-align: middle;\n",
       "    }\n",
       "\n",
       "    .dataframe tbody tr th {\n",
       "        vertical-align: top;\n",
       "    }\n",
       "\n",
       "    .dataframe thead th {\n",
       "        text-align: right;\n",
       "    }\n",
       "</style>\n",
       "<table border=\"1\" class=\"dataframe\">\n",
       "  <thead>\n",
       "    <tr style=\"text-align: right;\">\n",
       "      <th></th>\n",
       "      <th>Model</th>\n",
       "      <th>Accuracy Score</th>\n",
       "    </tr>\n",
       "  </thead>\n",
       "  <tbody>\n",
       "    <tr>\n",
       "      <th>0</th>\n",
       "      <td>Logistic Regression</td>\n",
       "      <td>0.95</td>\n",
       "    </tr>\n",
       "    <tr>\n",
       "      <th>1</th>\n",
       "      <td>Random Forest</td>\n",
       "      <td>0.96</td>\n",
       "    </tr>\n",
       "    <tr>\n",
       "      <th>2</th>\n",
       "      <td>SVM</td>\n",
       "      <td>0.97</td>\n",
       "    </tr>\n",
       "    <tr>\n",
       "      <th>3</th>\n",
       "      <td>KNeighbors</td>\n",
       "      <td>0.95</td>\n",
       "    </tr>\n",
       "    <tr>\n",
       "      <th>4</th>\n",
       "      <td>GaussianNB</td>\n",
       "      <td>0.49</td>\n",
       "    </tr>\n",
       "  </tbody>\n",
       "</table>\n",
       "</div>"
      ],
      "text/plain": [
       "                 Model  Accuracy Score\n",
       "0  Logistic Regression            0.95\n",
       "1        Random Forest            0.96\n",
       "2                  SVM            0.97\n",
       "3           KNeighbors            0.95\n",
       "4           GaussianNB            0.49"
      ]
     },
     "execution_count": 243,
     "metadata": {},
     "output_type": "execute_result"
    }
   ],
   "source": [
    "accuracy_df = pd.DataFrame(list(accuracy_scores.items()), columns=['Model', 'Accuracy Score'])\n",
    "accuracy_df"
   ]
  },
  {
   "cell_type": "markdown",
   "metadata": {},
   "source": [
    "### Cross-Validation"
   ]
  },
  {
   "cell_type": "code",
   "execution_count": 14,
   "metadata": {},
   "outputs": [
    {
     "name": "stdout",
     "output_type": "stream",
     "text": [
      "['fit_time', 'score_time', 'test_prec_macro', 'test_rec_macro', 'train_prec_macro', 'train_rec_macro']\n",
      "[1. 1. 1. 1. 1.]\n"
     ]
    }
   ],
   "source": [
    "from sklearn.metrics import make_scorer, recall_score\n",
    "from sklearn.model_selection import cross_validate\n",
    "\n",
    "# Assuming X and y are defined elsewhere\n",
    "scoring = {'prec_macro': 'precision_macro',\n",
    "           'rec_macro': make_scorer(recall_score, average='macro')}\n",
    "\n",
    "# Instantiate your classifier\n",
    "clf = RandomForestClassifier()\n",
    "\n",
    "# Perform cross-validation\n",
    "scores = cross_validate(clf, X, y, scoring=scoring,\n",
    "                        cv=5, return_train_score=True)\n",
    "\n",
    "# Print available scores\n",
    "print(sorted(scores.keys()))\n",
    "\n",
    "# Access the training recall score\n",
    "print(scores['train_rec_macro'])\n"
   ]
  }
 ],
 "metadata": {
  "kernelspec": {
   "display_name": "Python 3",
   "language": "python",
   "name": "python3"
  },
  "language_info": {
   "codemirror_mode": {
    "name": "ipython",
    "version": 3
   },
   "file_extension": ".py",
   "mimetype": "text/x-python",
   "name": "python",
   "nbconvert_exporter": "python",
   "pygments_lexer": "ipython3",
   "version": "3.12.2"
  }
 },
 "nbformat": 4,
 "nbformat_minor": 2
}
